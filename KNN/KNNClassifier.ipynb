{
 "cells": [
  {
   "cell_type": "markdown",
   "metadata": {},
   "source": [
    "## 一、KNN分类器  \n",
    "### 1.初始化函数__init__(k=5)  \n",
    "初始化k值，若无传入参数，默认为5"
   ]
  },
  {
   "cell_type": "code",
   "execution_count": null,
   "metadata": {
    "collapsed": true
   },
   "outputs": [],
   "source": [
    "def __init__(self,k=5):\n",
    "    self.k = k"
   ]
  },
  {
   "cell_type": "markdown",
   "metadata": {},
   "source": [
    "### 2.距离函数euclidean_distance(one_sample,X_train)  \n",
    "计算一个测试样本与所有训练样本的欧式距离：  \n",
    "$D_{ij}=\\sqrt{|x_{i1}-x_{j1}|^2+|x_{i2}-x_{j2}|^2+...+|x_{im}-x_{jm}|^2}$"
   ]
  },
  {
   "cell_type": "code",
   "execution_count": null,
   "metadata": {
    "collapsed": true
   },
   "outputs": [],
   "source": [
    "def euclidean_distance(self,one_sample,X_train):\n",
    "    #将测试样本变成只有1行\n",
    "    one_sample = one_sample.reshape(1,-1)\n",
    "    X_train = X_train.reshape(X_train.shape[0],-1)\n",
    "    #将测试样本沿y轴复制，使其行数等于训练样本行数\n",
    "    X_test = np.tile(one_sample,(X_train.shape[0],1))\n",
    "    #计算测试样本与每一个训练样本的欧氏距离\n",
    "    distance_arr = np.sqrt(np.power(X_test - X_train,2).sum(axis=1))\n",
    "    return distance_arr"
   ]
  },
  {
   "cell_type": "markdown",
   "metadata": {},
   "source": [
    "### 3.获取标签函数get_k_neighbor_labels(distances,y_train,k)  \n",
    "获取k个最近邻的类别(标签)，用的是最简单的先排序，在选取前k个标签，未使用KD树的方法"
   ]
  },
  {
   "cell_type": "code",
   "execution_count": null,
   "metadata": {
    "collapsed": true
   },
   "outputs": [],
   "source": [
    "def get_k_neighbor_labels(self,distances,y_train,k):\n",
    "    k_neighbor_labels = []\n",
    "    #按照距离排序选择前k个获取标签\n",
    "    for distance in np.sort(distances)[:k]:\n",
    "        label = y_train[distances==distance]\n",
    "        k_neighbor_labels.extend(label)\n",
    "    #将返回k个近邻标签列表转为数组，并只有一行\n",
    "    return np.array(k_neighbor_labels).reshape(-1, )"
   ]
  },
  {
   "cell_type": "markdown",
   "metadata": {},
   "source": [
    "### 4.投票函数vote(one_sample,X_train,y_train,k)  \n",
    "投票得出这个样本所属类别"
   ]
  },
  {
   "cell_type": "code",
   "execution_count": null,
   "metadata": {
    "collapsed": true
   },
   "outputs": [],
   "source": [
    "def vote(self,one_sample,X_train,y_train,k):\n",
    "    #获取测试集所有样本与训练集欧氏距离的数组\n",
    "    Distances = self.euclidean_distance(one_sample,X_train)\n",
    "    y_train = y_train.reshape(y_train.shape[0],1)\n",
    "    #获取最近k个近邻的标签数组\n",
    "    self.knn_labels_arr = self.get_k_neighbor_labels(Distances,y_train,k)\n",
    "    #初始化标签和数\n",
    "    find_label,find_count = 0,0\n",
    "    #使用Counter统计每个标签出现次数，label为标签，count为标签出现次数\n",
    "    for label,count in Counter(self.knn_labels_arr).items():\n",
    "        if count > find_count:\n",
    "            find_count = count\n",
    "            find_label = label\n",
    "    return find_label"
   ]
  },
  {
   "cell_type": "markdown",
   "metadata": {},
   "source": [
    "### 5.预测函数predict(X_test,X_train,y_train)  \n",
    "将测试集传入，并得到每一个测试样本的预测类别"
   ]
  },
  {
   "cell_type": "code",
   "execution_count": null,
   "metadata": {
    "collapsed": true
   },
   "outputs": [],
   "source": [
    "def predict(self,X_test,X_train,y_train):\n",
    "    y_pred = []\n",
    "    #获取每个测试样本的预测标签\n",
    "    for sample in X_test:\n",
    "        label = self.vote(sample,X_train,y_train,self.k)\n",
    "        y_pred.append(label)\n",
    "    return np.array(y_pred)"
   ]
  },
  {
   "cell_type": "markdown",
   "metadata": {},
   "source": [
    "### 6.计算精确度函数accuracy(y,y_pred)"
   ]
  },
  {
   "cell_type": "code",
   "execution_count": null,
   "metadata": {
    "collapsed": true
   },
   "outputs": [],
   "source": [
    "def accuracy(self,y,y_pred):\n",
    "    y=y.reshape(y.shape[0],-1)\n",
    "    y_pred=y_pred.reshape(y_pred.shape[0],-1)\n",
    "    return np.sum(y==y_pred)/len(y)"
   ]
  },
  {
   "cell_type": "markdown",
   "metadata": {},
   "source": [
    "## 二、KNN函数  \n",
    "为了省事，写了一些函数，方便观察不同k值的模型情况，从而找到较好的模型"
   ]
  },
  {
   "cell_type": "markdown",
   "metadata": {},
   "source": [
    "### 1.求不同k值下最佳k值和准确率K_acc(X_train,X_test,y_train,y_test,k_arr)"
   ]
  },
  {
   "cell_type": "code",
   "execution_count": null,
   "metadata": {
    "collapsed": true
   },
   "outputs": [],
   "source": [
    "#根据k取值列表，计算各取值的精确率\n",
    "def K_acc(self,X_train,X_test,y_train,y_test,k_arr):\n",
    "    self.k_value = k_arr\n",
    "    self.accu_value=[]\n",
    "    self.accu_best,self.k_best = 0, 0\n",
    "    for k in self.k_value:\n",
    "        model = KnnClassifier.KNN(k)\n",
    "        y_pred = model.predict(X_test,X_train,y_train)\n",
    "        accu = model.accuracy(y_test,y_pred)\n",
    "        if accu > self.accu_best:\n",
    "            self.k_best = k\n",
    "            self.accu_best = accu\n",
    "        self.accu_value.append(accu)"
   ]
  },
  {
   "cell_type": "markdown",
   "metadata": {},
   "source": [
    "### 2.绘制不同k值和准确率图plot_K_acc()"
   ]
  },
  {
   "cell_type": "code",
   "execution_count": null,
   "metadata": {
    "collapsed": true
   },
   "outputs": [],
   "source": [
    "def plot_K_acc(self):\n",
    "    figure = plt.figure(figsize=(8,6))\n",
    "    ax = figure.add_subplot(1,1,1)\n",
    "    ax.plot(self.k_value,self.accu_value,color='red',marker='*',lw=1)\n",
    "    plt.xticks(self.k_value, rotation=0) \n",
    "    ax.set_xlabel(r\"k_value\")\n",
    "    ax.set_ylabel(r\"acc\")\n",
    "    ax.set_title(\"k value and accuracy\")\n",
    "    plt.show()"
   ]
  },
  {
   "cell_type": "markdown",
   "metadata": {},
   "source": [
    "## 三、导入数据集  \n",
    "这里使用sklearn自带的digits手写数字数据集来测试  \n",
    "### 导入库"
   ]
  },
  {
   "cell_type": "code",
   "execution_count": 7,
   "metadata": {
    "collapsed": true
   },
   "outputs": [],
   "source": [
    "import numpy as np\n",
    "from sklearn import datasets\n",
    "from sklearn.model_selection import train_test_split\n",
    "import matplotlib.pyplot as plt\n",
    "from collections import Counter"
   ]
  },
  {
   "cell_type": "code",
   "execution_count": 8,
   "metadata": {},
   "outputs": [
    {
     "data": {
      "image/png": "[encoded data removed]",
      "text/plain": [
       "<matplotlib.figure.Figure at 0x194348c32b0>"
      ]
     },
     "metadata": {},
     "output_type": "display_data"
    },
    {
     "name": "stdout",
     "output_type": "stream",
     "text": [
      "精确率最高的k值： 3 精确率： 0.985185185185\n"
     ]
    }
   ],
   "source": [
    "#加载digits数据集\n",
    "digits = datasets.load_digits()\n",
    "digits_X = digits.data   ##获得数据集输入\n",
    "digits_y = digits.target ##获得数据集标签\n",
    "#划分训练集和测试集\n",
    "X_train,X_test,y_train,y_test = train_test_split(digits_X, digits_y, test_size = 0.3)\n",
    "k_value = np.arange(1,22,2).tolist()#设置k_value为1到22的奇数\n",
    "##加载最近邻模型\n",
    "KF = KnnFunction()\n",
    "KF.K_acc(X_train,X_test,y_train,y_test,k_value)\n",
    "KF.plot_K_acc()\n",
    "print(\"精确率最高的k值：\",KF.k_best,\"精确率：\",KF.accu_best)"
   ]
  }
 ],
 "metadata": {
  "kernelspec": {
   "display_name": "Python 3",
   "language": "python",
   "name": "python3"
  },
  "language_info": {
   "codemirror_mode": {
    "name": "ipython",
    "version": 3
   },
   "file_extension": ".py",
   "mimetype": "text/x-python",
   "name": "python",
   "nbconvert_exporter": "python",
   "pygments_lexer": "ipython3",
   "version": "3.6.3"
  }
 },
 "nbformat": 4,
 "nbformat_minor": 2
}
